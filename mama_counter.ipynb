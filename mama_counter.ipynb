{
 "cells": [
  {
   "cell_type": "code",
   "execution_count": null,
   "metadata": {},
   "outputs": [
    {
     "name": "stdout",
     "output_type": "stream",
     "text": [
      "Program starts counting\n",
      "1\n",
      "Somebody said mama 1 times\n",
      "2\n",
      "Somebody said mummy 2 times\n",
      "3\n",
      "Somebody said mummy 3 times\n",
      "4\n",
      "Somebody said mama 4 times\n",
      "5\n",
      "Somebody said mama 5 times\n",
      "6\n",
      "Somebody said mummy 6 times\n",
      "Sorry I did not get it.\n",
      "7\n",
      "Somebody said mummy 7 times\n",
      "8\n",
      "Somebody said mama 8 times\n",
      "9\n",
      "Somebody said mummy 9 times\n",
      "10\n",
      "Somebody said mummy 10 times\n",
      "11\n",
      "Somebody said mama 11 times\n",
      "12\n",
      "Somebody said mummy 12 times\n",
      "Sorry I did not get it.\n",
      "Sorry I did not get it.\n",
      "Sorry I did not get it.\n",
      "Sorry I did not get it.\n",
      "Sorry I did not get it.\n",
      "Sorry I did not get it.\n",
      "Sorry I did not get it.\n",
      "Sorry I did not get it.\n",
      "Sorry I did not get it.\n",
      "Sorry I did not get it.\n",
      "Sorry I did not get it.\n",
      "Sorry I did not get it.\n",
      "Sorry I did not get it.\n",
      "Sorry the speech service is down.\n",
      "Sorry I did not get it.\n",
      "Sorry the speech service is down.\n",
      "Sorry I did not get it.\n",
      "Sorry I did not get it.\n",
      "Sorry I did not get it.\n",
      "Sorry I did not get it.\n",
      "Sorry I did not get it.\n",
      "Sorry I did not get it.\n",
      "Sorry I did not get it.\n",
      "Sorry I did not get it.\n",
      "Sorry I did not get it.\n",
      "Sorry I did not get it.\n",
      "Sorry I did not get it.\n",
      "Sorry I did not get it.\n",
      "Sorry I did not get it.\n",
      "Sorry I did not get it.\n",
      "Sorry I did not get it.\n"
     ]
    }
   ],
   "source": [
    "import speech_recognition as sr\n"
   ]
  },
  {
   "cell_type": "code",
   "execution_count": null,
   "metadata": {},
   "outputs": [],
   "source": [
    "gtv,mgkyr,gfjyuy,yfy,ate,ryrytuf,dtedrt,fgs,gyyu."
   ]
  },
  {
   "cell_type": "code",
   "execution_count": null,
   "metadata": {},
   "outputs": [],
   "source": []
  },
  {
   "cell_type": "code",
   "execution_count": null,
   "metadata": {},
   "outputs": [],
   "source": []
  },
  {
   "cell_type": "code",
   "execution_count": null,
   "metadata": {},
   "outputs": [],
   "source": []
  }
 ],
 "metadata": {
  "kernelspec": {
   "display_name": "Python 3",
   "language": "python",
   "name": "python3"
  },
  "language_info": {
   "codemirror_mode": {
    "name": "ipython",
    "version": 3
   },
   "file_extension": ".py",
   "mimetype": "text/x-python",
   "name": "python",
   "nbconvert_exporter": "python",
   "pygments_lexer": "ipython3",
   "version": "3.7.6"
  }
 },
 "nbformat": 4,
 "nbformat_minor": 4
}
