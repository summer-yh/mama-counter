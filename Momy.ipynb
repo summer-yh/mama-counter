{
 "cells": [
  {
   "cell_type": "code",
   "execution_count": null,
   "metadata": {},
   "outputs": [],
   "source": [
    "import speech_recognition as sr\n",
    "import webbrowser\n",
    "import time\n",
    "import playsound\n",
    "import os\n",
    "import random\n",
    "from gtts import gTTS\n",
    "from time import ctime\n",
    "r= sr.Recognizer()\n",
    "\n",
    "def record_audio(ask=False):\n",
    "    with sr.Microphone() as source: \n",
    "        if ask:\n",
    "            Summer_speak(ask)\n",
    "        audio = r.listen(source)\n",
    "        voice_data =''\n",
    "        try: \n",
    "            voice_data = r.recognize_google(audio)\n",
    "        except sr.UnknownValueError:\n",
    "            Summer_speak ('Sorry I did not get it.')\n",
    "        except sr.RequestError:\n",
    "            Summer_speak ('Sorry the speech service is down.')\n",
    "        return voice_data\n",
    "\n",
    "def Summer_speak(audio_string):\n",
    "    tts = gTTS (text=audio_string, lang = 'en')\n",
    "    r = random.randint (1, 100000000)\n",
    "    audio_file = 'audio-'+ str(r)+'.mp3'\n",
    "    tts.save(audio_file)\n",
    "    playsound.playsound(audio_file)\n",
    "    print(audio_string)\n",
    "    os.remove(audio_file)\n",
    "    \n",
    "def respond(voice_data):\n",
    "    if 'what is your name' in voice_data:\n",
    "        Summer_speak('My name is Summer.')\n",
    "    if 'what time is it' in voice_data:\n",
    "        Summer_speak(ctime())\n",
    "    if 'search' in voice_data:\n",
    "        search = record_audio('what do you want to search for?')\n",
    "        url = 'https://google.com/search?q=' + search\n",
    "        webbrowser.get().open(url)\n",
    "        Summer_speak('Here is what I found for your question')\n",
    "    if 'exit' in voice_data:\n",
    "        exit()\n",
    "        \n",
    "time.sleep(1) \n",
    "Summer_speak (\"How can I help you?\")\n",
    "while 1:\n",
    "    voice_data = record_audio()\n",
    "    respond(voice_data)    "
   ]
  },
  {
   "cell_type": "code",
   "execution_count": null,
   "metadata": {},
   "outputs": [],
   "source": []
  },
  {
   "cell_type": "code",
   "execution_count": null,
   "metadata": {},
   "outputs": [],
   "source": []
  }
 ],
 "metadata": {
  "kernelspec": {
   "display_name": "Python 3",
   "language": "python",
   "name": "python3"
  },
  "language_info": {
   "codemirror_mode": {
    "name": "ipython",
    "version": 3
   },
   "file_extension": ".py",
   "mimetype": "text/x-python",
   "name": "python",
   "nbconvert_exporter": "python",
   "pygments_lexer": "ipython3",
   "version": "3.7.6"
  }
 },
 "nbformat": 4,
 "nbformat_minor": 4
}
